{
 "cells": [
  {
   "cell_type": "markdown",
   "id": "fd8a581d",
   "metadata": {},
   "source": [
    "# Most Fuel Efficient Automobiles\n",
    "\n",
    "\n",
    "### Introduction\n",
    "\n",
    "For the past decade now, scientists have provided warnings of the increased risk of global warming, a direct cause of our usage of fossil fuels and our CO2 emissions. However, technology is developing just as fast with the times with most machines being far more efficient and faster than their previous versions. And with gas prices at an all-time high, what better than to analyze the fuel efficiency of current automobiles? This analysis will cover the best fuel-efficient models currently available on the market along with the most consistent manufacturers in this department. The data used will contain all types of automobiles from supercars to pickup trucks and everything in between. By the end of this analysis, I will have determined the most fuel-efficient vehicles and manufacturers from the current models.\n",
    "\n",
    "![Car](https://cdntdreditorials2.azureedge.net/cache/c/0/2/4/d/8/c024d8062cc02a8a8a32dfb3736ae4edae646456.jpg)"
   ]
  },
  {
   "cell_type": "markdown",
   "id": "cb2bec26",
   "metadata": {},
   "source": [
    "### Data Collection\n",
    "The data in this analysis has been retrieved from Kaggle, about the 2022 fuel consumption of vehicles. Here is the link to the [dataset](https://www.kaggle.com/datasets/rinichristy/2022-fuel-consumption-ratings).\n",
    "\n",
    "### Data Preparation\n",
    "First I will import the libraries needed to perform the analysis and then load the csv file which contains the data set."
   ]
  },
  {
   "cell_type": "code",
   "execution_count": 45,
   "id": "62d0ade2",
   "metadata": {},
   "outputs": [],
   "source": [
    "import pandas as pd\n",
    "import seaborn as sns"
   ]
  },
  {
   "cell_type": "code",
   "execution_count": 46,
   "id": "52fba4f8",
   "metadata": {},
   "outputs": [],
   "source": [
    "# Loading data\n",
    "cars = pd.read_csv(r\"Fuel_Consumption_Ratings.csv\")"
   ]
  },
  {
   "cell_type": "markdown",
   "id": "e0d4c58f",
   "metadata": {},
   "source": [
    "### Data Cleaning\n",
    "To narrow the data set to the specifics I need, I will need to remove multiple columns which have no relevancy to the topic of this report, and I will also rename the columns to make it easier for the reader."
   ]
  },
  {
   "cell_type": "code",
   "execution_count": 47,
   "id": "925909c0",
   "metadata": {},
   "outputs": [],
   "source": [
    "## dropping unnecessary data\n",
    "cars = cars.drop(['Model Year', 'Transmission', 'CO2 Rating', 'Smog Rating', 'Fuel Consumption (City (L/100 km)', \n",
    "                  'Fuel Consumption(Hwy (L/100 km))', 'Fuel Consumption(Comb (mpg))'], axis=1)\n",
    "\n",
    "## renaming names of current columns and rows for the reader\n",
    "cars = cars.replace({'Fuel Type': {'Z': 'Premium Gas', 'X': 'Regular Gas', 'D': 'Diesel', 'E': 'E85'}})\n",
    "cars.columns = [\"Make\", \"Model\", \"Class\", \"Engine Size(L)\", \"Cylinders\", \"Fuel Type\", \"Fuel Consumption(L/100km)\", \n",
    "                \"CO2 Emissions(g/km)\"]"
   ]
  },
  {
   "cell_type": "markdown",
   "id": "9108501d",
   "metadata": {},
   "source": [
    "# Analysis\n",
    "### Data Grouping\n",
    "To start the analysis, first I will take a look at all the classes of vehicles in the dataset. From there I will seperate them into 3 different sets; trucks, small family cars, and big family cars. This will provide the reader with more precise information as each class of vehicle is made for different tasks, it would be unfair to compare a pickup truck with a small hatchback and vice versa. "
   ]
  },
  {
   "cell_type": "code",
   "execution_count": 48,
   "id": "f417516d",
   "metadata": {},
   "outputs": [
    {
     "data": {
      "text/plain": [
       "Class\n",
       "Compact                     69\n",
       "Full-size                   64\n",
       "Mid-size                   117\n",
       "Minicompact                 48\n",
       "Minivan                      7\n",
       "Pickup truck: Small         20\n",
       "Pickup truck: Standard     113\n",
       "SUV: Small                 197\n",
       "SUV: Standard              141\n",
       "Special purpose vehicle     12\n",
       "Station wagon: Mid-size      8\n",
       "Station wagon: Small        19\n",
       "Subcompact                  80\n",
       "Two-seater                  51\n",
       "dtype: int64"
      ]
     },
     "execution_count": 48,
     "metadata": {},
     "output_type": "execute_result"
    }
   ],
   "source": [
    "# getting all classes and how many cars in each one\n",
    "class_group = cars.groupby([\"Class\"]).size()\n",
    "class_group"
   ]
  },
  {
   "cell_type": "code",
   "execution_count": 49,
   "id": "b4c451c2",
   "metadata": {},
   "outputs": [],
   "source": [
    "# seperating all trucks from dataset\n",
    "trucks = cars[cars.Class != \"SUV: Small\"]\n",
    "trucks = trucks[trucks.Class != \"SUV: Standard\"]\n",
    "trucks = trucks[trucks.Class != \"Special purpose vehicle\"]\n",
    "trucks = trucks[trucks.Class != \"Station wagon: Mid-size\"]\n",
    "trucks = trucks[trucks.Class != \"Station wagon: Small\"]\n",
    "trucks = trucks[trucks.Class != \"Subcompact\"]\n",
    "trucks = trucks[trucks.Class != \"Two-seater\"]\n",
    "trucks = trucks[trucks.Class != \"Minivan\"]\n",
    "trucks = trucks[trucks.Class != \"Minicompact\"]\n",
    "trucks = trucks[trucks.Class != \"Mid-size\"]\n",
    "trucks = trucks[trucks.Class != \"Full-size\"]\n",
    "trucks = trucks[trucks.Class != \"Compact\"]\n",
    "\n",
    "# seperating all small family cars from dataset\n",
    "small_family = cars[cars.Class != \"SUV: Small\"]\n",
    "small_family = small_family[small_family.Class != \"SUV: Standard\"]\n",
    "small_family = small_family[small_family.Class != \"Station wagon: Mid-size\"]\n",
    "small_family = small_family[small_family.Class != \"Station wagon: Small\"]\n",
    "small_family = small_family[small_family.Class != \"Minivan\"]\n",
    "small_family = small_family[small_family.Class != \"Special purpose vehicle\"]\n",
    "small_family = small_family[small_family.Class != \"Full-size\"]\n",
    "small_family = small_family[small_family.Class != \"Pickup truck: Small\"]\n",
    "small_family = small_family[small_family.Class != \"Pickup truck: Standard\"]\n",
    "\n",
    "# seperating all big family cars from dataset\n",
    "big_family = cars[cars.Class != \"Pickup truck: Small\"]\n",
    "big_family = big_family[big_family.Class != \"Pickup truck: Standard\"]\n",
    "big_family = big_family[big_family.Class != \"Subcompact\"]\n",
    "big_family = big_family[big_family.Class != \"Two-seater\"]\n",
    "big_family = big_family[big_family.Class != \"Compact\"]\n",
    "big_family = big_family[big_family.Class != \"Mid-size\"]\n",
    "big_family = big_family[big_family.Class != \"Minicompact\"]"
   ]
  },
  {
   "cell_type": "markdown",
   "id": "fe05281b",
   "metadata": {},
   "source": [
    "### Storing Important Values\n",
    "Now that I have seperated the dataset into 3 different variables, I will get the minimum and maximum which will prove useful at the end of the report to make a conclusion and I also want to narrow each data set down more because any engine with more than 8 cylinders will have bad fuel economy regardless."
   ]
  },
  {
   "cell_type": "code",
   "execution_count": 50,
   "id": "d7fe2416",
   "metadata": {},
   "outputs": [],
   "source": [
    "# getting minimum\n",
    "min_truck = trucks[\"Fuel Consumption(L/100km)\"].min()\n",
    "min_small_family = small_family[\"Fuel Consumption(L/100km)\"].min()\n",
    "min_big_family = big_family[\"Fuel Consumption(L/100km)\"].min()\n",
    "\n",
    "# getting maximum\n",
    "max_truck = trucks[\"Fuel Consumption(L/100km)\"].max()\n",
    "max_small_family = small_family[\"Fuel Consumption(L/100km)\"].max()\n",
    "max_big_family = big_family[\"Fuel Consumption(L/100km)\"].max()\n",
    "\n",
    "# removing all vehicles with engines that have more than or equal to 8 cylinders\n",
    "trucks = trucks[trucks.Cylinders < 8]\n",
    "small_family = small_family[small_family.Cylinders < 8]\n",
    "big_family = big_family[big_family.Cylinders < 8]"
   ]
  },
  {
   "cell_type": "markdown",
   "id": "1bb9a4bb",
   "metadata": {},
   "source": [
    "### Graphing\n",
    "Now I will graph each type of data I have broken the data set into, and see their fuel consumption rate with the number of them in each range with histograms."
   ]
  },
  {
   "cell_type": "code",
   "execution_count": 51,
   "id": "f3614bc8",
   "metadata": {},
   "outputs": [
    {
     "data": {
      "text/plain": [
       "[Text(0.5, 1.0, 'Trucks')]"
      ]
     },
     "execution_count": 51,
     "metadata": {},
     "output_type": "execute_result"
    },
    {
     "data": {
      "image/png": "[encoded data removed]",
      "text/plain": [
       "<Figure size 640x480 with 1 Axes>"
      ]
     },
     "metadata": {},
     "output_type": "display_data"
    }
   ],
   "source": [
    "sns.histplot(data=trucks, x=\"Fuel Consumption(L/100km)\", bins=10).set(title='Trucks')"
   ]
  },
  {
   "cell_type": "code",
   "execution_count": 52,
   "id": "6df6fd69",
   "metadata": {},
   "outputs": [
    {
     "data": {
      "text/plain": [
       "[Text(0.5, 1.0, 'Small Family Cars')]"
      ]
     },
     "execution_count": 52,
     "metadata": {},
     "output_type": "execute_result"
    },
    {
     "data": {
      "image/png": "[encoded data removed]",
      "text/plain": [
       "<Figure size 640x480 with 1 Axes>"
      ]
     },
     "metadata": {},
     "output_type": "display_data"
    }
   ],
   "source": [
    "sns.histplot(data=small_family, x=\"Fuel Consumption(L/100km)\", color='green', bins=10).set(title='Small Family Cars')"
   ]
  },
  {
   "cell_type": "code",
   "execution_count": 53,
   "id": "06739a22",
   "metadata": {},
   "outputs": [
    {
     "data": {
      "text/plain": [
       "[Text(0.5, 1.0, 'Big Family Cars')]"
      ]
     },
     "execution_count": 53,
     "metadata": {},
     "output_type": "execute_result"
    },
    {
     "data": {
      "image/png": "[encoded data removed]",
      "text/plain": [
       "<Figure size 640x480 with 1 Axes>"
      ]
     },
     "metadata": {},
     "output_type": "display_data"
    }
   ],
   "source": [
    "sns.histplot(data=big_family, x=\"Fuel Consumption(L/100km)\", color='orange', bins=10).set(title='Big Family Cars')"
   ]
  },
  {
   "cell_type": "markdown",
   "id": "87a17a48",
   "metadata": {},
   "source": [
    "### Final Graphs\n",
    "After analyzing the graphs above, I will make new graphs of the best manufacturers in each category and I will do so by narrowing down the pool of data to what would be considered good fuel economy for each class. So that would be anything less than 11L/100km for trucks and anything less than 7L/100km for the other two sets. Then I will create bar graphs comparing them."
   ]
  },
  {
   "cell_type": "code",
   "execution_count": 54,
   "id": "bc3903d4",
   "metadata": {},
   "outputs": [],
   "source": [
    "trucks = trucks[trucks[\"Fuel Consumption(L/100km)\"] < 11]\n",
    "small_family = small_family[small_family[\"Fuel Consumption(L/100km)\"] < 7]\n",
    "big_family = big_family[big_family[\"Fuel Consumption(L/100km)\"] < 7]"
   ]
  },
  {
   "cell_type": "code",
   "execution_count": 55,
   "id": "0f784956",
   "metadata": {},
   "outputs": [
    {
     "data": {
      "text/plain": [
       "[Text(0.5, 1.0, 'Truck Fuel Economy By Make')]"
      ]
     },
     "execution_count": 55,
     "metadata": {},
     "output_type": "execute_result"
    },
    {
     "data": {
      "image/png": "[encoded data removed]",
      "text/plain": [
       "<Figure size 640x480 with 1 Axes>"
      ]
     },
     "metadata": {},
     "output_type": "display_data"
    }
   ],
   "source": [
    "sns.barplot(data=trucks, x=\"Make\", y=\"Fuel Consumption(L/100km)\").set(title=\"Truck Fuel Economy By Make\")"
   ]
  },
  {
   "cell_type": "code",
   "execution_count": 56,
   "id": "68a3cec6",
   "metadata": {},
   "outputs": [
    {
     "data": {
      "text/plain": [
       "[Text(0.5, 1.0, 'Small Family Car Fuel Economy By Make')]"
      ]
     },
     "execution_count": 56,
     "metadata": {},
     "output_type": "execute_result"
    },
    {
     "data": {
      "image/png": "[encoded data removed]",
      "text/plain": [
       "<Figure size 640x480 with 1 Axes>"
      ]
     },
     "metadata": {},
     "output_type": "display_data"
    }
   ],
   "source": [
    "sns.barplot(data=small_family, x=\"Make\", y=\"Fuel Consumption(L/100km)\").set(title=\"Small Family Car Fuel Economy By Make\")"
   ]
  },
  {
   "cell_type": "code",
   "execution_count": 57,
   "id": "0b016b79",
   "metadata": {},
   "outputs": [
    {
     "data": {
      "text/plain": [
       "[Text(0.5, 1.0, 'Big Family Car Fuel Economy By Make')]"
      ]
     },
     "execution_count": 57,
     "metadata": {},
     "output_type": "execute_result"
    },
    {
     "data": {
      "image/png": "[encoded data removed]",
      "text/plain": [
       "<Figure size 640x480 with 1 Axes>"
      ]
     },
     "metadata": {},
     "output_type": "display_data"
    }
   ],
   "source": [
    "sns.barplot(data=big_family, x=\"Make\", y=\"Fuel Consumption(L/100km)\").set(title=\"Big Family Car Fuel Economy By Make\")"
   ]
  },
  {
   "cell_type": "markdown",
   "id": "7e97d2cc",
   "metadata": {},
   "source": [
    "### Final Results\n",
    "Now I will print the model with the most and least fuel effiecient from each set I created."
   ]
  },
  {
   "cell_type": "code",
   "execution_count": 58,
   "id": "cc274973",
   "metadata": {},
   "outputs": [
    {
     "data": {
      "text/html": [
       "<div>\n",
       "<style scoped>\n",
       "    .dataframe tbody tr th:only-of-type {\n",
       "        vertical-align: middle;\n",
       "    }\n",
       "\n",
       "    .dataframe tbody tr th {\n",
       "        vertical-align: top;\n",
       "    }\n",
       "\n",
       "    .dataframe thead th {\n",
       "        text-align: right;\n",
       "    }\n",
       "</style>\n",
       "<table border=\"1\" class=\"dataframe\">\n",
       "  <thead>\n",
       "    <tr style=\"text-align: right;\">\n",
       "      <th></th>\n",
       "      <th>Make</th>\n",
       "      <th>Model</th>\n",
       "      <th>Class</th>\n",
       "      <th>Engine Size(L)</th>\n",
       "      <th>Cylinders</th>\n",
       "      <th>Fuel Type</th>\n",
       "      <th>Fuel Consumption(L/100km)</th>\n",
       "      <th>CO2 Emissions(g/km)</th>\n",
       "    </tr>\n",
       "  </thead>\n",
       "  <tbody>\n",
       "    <tr>\n",
       "      <th>339</th>\n",
       "      <td>Ford</td>\n",
       "      <td>Maverick Hybrid</td>\n",
       "      <td>Pickup truck: Small</td>\n",
       "      <td>2.5</td>\n",
       "      <td>4</td>\n",
       "      <td>Regular Gas</td>\n",
       "      <td>6.3</td>\n",
       "      <td>147</td>\n",
       "    </tr>\n",
       "  </tbody>\n",
       "</table>\n",
       "</div>"
      ],
      "text/plain": [
       "     Make            Model                Class  Engine Size(L)  Cylinders  \\\n",
       "339  Ford  Maverick Hybrid  Pickup truck: Small             2.5          4   \n",
       "\n",
       "       Fuel Type  Fuel Consumption(L/100km)  CO2 Emissions(g/km)  \n",
       "339  Regular Gas                        6.3                  147  "
      ]
     },
     "execution_count": 58,
     "metadata": {},
     "output_type": "execute_result"
    }
   ],
   "source": [
    "trucks[trucks[\"Fuel Consumption(L/100km)\"] == min_truck]"
   ]
  },
  {
   "cell_type": "code",
   "execution_count": 59,
   "id": "e691cb63",
   "metadata": {},
   "outputs": [
    {
     "data": {
      "text/html": [
       "<div>\n",
       "<style scoped>\n",
       "    .dataframe tbody tr th:only-of-type {\n",
       "        vertical-align: middle;\n",
       "    }\n",
       "\n",
       "    .dataframe tbody tr th {\n",
       "        vertical-align: top;\n",
       "    }\n",
       "\n",
       "    .dataframe thead th {\n",
       "        text-align: right;\n",
       "    }\n",
       "</style>\n",
       "<table border=\"1\" class=\"dataframe\">\n",
       "  <thead>\n",
       "    <tr style=\"text-align: right;\">\n",
       "      <th></th>\n",
       "      <th>Make</th>\n",
       "      <th>Model</th>\n",
       "      <th>Class</th>\n",
       "      <th>Engine Size(L)</th>\n",
       "      <th>Cylinders</th>\n",
       "      <th>Fuel Type</th>\n",
       "      <th>Fuel Consumption(L/100km)</th>\n",
       "      <th>CO2 Emissions(g/km)</th>\n",
       "    </tr>\n",
       "  </thead>\n",
       "  <tbody>\n",
       "    <tr>\n",
       "      <th>209</th>\n",
       "      <td>Chevrolet</td>\n",
       "      <td>Silverado 4WD Mud Terrain Tire FFV</td>\n",
       "      <td>Pickup truck: Standard</td>\n",
       "      <td>5.3</td>\n",
       "      <td>8</td>\n",
       "      <td>E85</td>\n",
       "      <td>21.5</td>\n",
       "      <td>358</td>\n",
       "    </tr>\n",
       "    <tr>\n",
       "      <th>398</th>\n",
       "      <td>GMC</td>\n",
       "      <td>Sierra 4WD Mud Terrain Tire FFV</td>\n",
       "      <td>Pickup truck: Standard</td>\n",
       "      <td>5.3</td>\n",
       "      <td>8</td>\n",
       "      <td>E85</td>\n",
       "      <td>21.5</td>\n",
       "      <td>358</td>\n",
       "    </tr>\n",
       "  </tbody>\n",
       "</table>\n",
       "</div>"
      ],
      "text/plain": [
       "          Make                               Model                   Class  \\\n",
       "209  Chevrolet  Silverado 4WD Mud Terrain Tire FFV  Pickup truck: Standard   \n",
       "398        GMC     Sierra 4WD Mud Terrain Tire FFV  Pickup truck: Standard   \n",
       "\n",
       "     Engine Size(L)  Cylinders Fuel Type  Fuel Consumption(L/100km)  \\\n",
       "209             5.3          8       E85                       21.5   \n",
       "398             5.3          8       E85                       21.5   \n",
       "\n",
       "     CO2 Emissions(g/km)  \n",
       "209                  358  \n",
       "398                  358  "
      ]
     },
     "execution_count": 59,
     "metadata": {},
     "output_type": "execute_result"
    }
   ],
   "source": [
    "cars[(cars[\"Fuel Consumption(L/100km)\"] == max_truck) & (cars[\"Class\"] == \"Pickup truck: Standard\")]"
   ]
  },
  {
   "cell_type": "code",
   "execution_count": 60,
   "id": "b3004483",
   "metadata": {},
   "outputs": [
    {
     "data": {
      "text/html": [
       "<div>\n",
       "<style scoped>\n",
       "    .dataframe tbody tr th:only-of-type {\n",
       "        vertical-align: middle;\n",
       "    }\n",
       "\n",
       "    .dataframe tbody tr th {\n",
       "        vertical-align: top;\n",
       "    }\n",
       "\n",
       "    .dataframe thead th {\n",
       "        text-align: right;\n",
       "    }\n",
       "</style>\n",
       "<table border=\"1\" class=\"dataframe\">\n",
       "  <thead>\n",
       "    <tr style=\"text-align: right;\">\n",
       "      <th></th>\n",
       "      <th>Make</th>\n",
       "      <th>Model</th>\n",
       "      <th>Class</th>\n",
       "      <th>Engine Size(L)</th>\n",
       "      <th>Cylinders</th>\n",
       "      <th>Fuel Type</th>\n",
       "      <th>Fuel Consumption(L/100km)</th>\n",
       "      <th>CO2 Emissions(g/km)</th>\n",
       "    </tr>\n",
       "  </thead>\n",
       "  <tbody>\n",
       "    <tr>\n",
       "      <th>458</th>\n",
       "      <td>Hyundai</td>\n",
       "      <td>Elantra Hybrid Blue</td>\n",
       "      <td>Mid-size</td>\n",
       "      <td>1.6</td>\n",
       "      <td>4</td>\n",
       "      <td>Regular Gas</td>\n",
       "      <td>4.4</td>\n",
       "      <td>103</td>\n",
       "    </tr>\n",
       "  </tbody>\n",
       "</table>\n",
       "</div>"
      ],
      "text/plain": [
       "        Make                Model     Class  Engine Size(L)  Cylinders  \\\n",
       "458  Hyundai  Elantra Hybrid Blue  Mid-size             1.6          4   \n",
       "\n",
       "       Fuel Type  Fuel Consumption(L/100km)  CO2 Emissions(g/km)  \n",
       "458  Regular Gas                        4.4                  103  "
      ]
     },
     "execution_count": 60,
     "metadata": {},
     "output_type": "execute_result"
    }
   ],
   "source": [
    "small_family[small_family[\"Fuel Consumption(L/100km)\"] == min_small_family]"
   ]
  },
  {
   "cell_type": "code",
   "execution_count": 61,
   "id": "3dc08d3f",
   "metadata": {},
   "outputs": [
    {
     "data": {
      "text/html": [
       "<div>\n",
       "<style scoped>\n",
       "    .dataframe tbody tr th:only-of-type {\n",
       "        vertical-align: middle;\n",
       "    }\n",
       "\n",
       "    .dataframe tbody tr th {\n",
       "        vertical-align: top;\n",
       "    }\n",
       "\n",
       "    .dataframe thead th {\n",
       "        text-align: right;\n",
       "    }\n",
       "</style>\n",
       "<table border=\"1\" class=\"dataframe\">\n",
       "  <thead>\n",
       "    <tr style=\"text-align: right;\">\n",
       "      <th></th>\n",
       "      <th>Make</th>\n",
       "      <th>Model</th>\n",
       "      <th>Class</th>\n",
       "      <th>Engine Size(L)</th>\n",
       "      <th>Cylinders</th>\n",
       "      <th>Fuel Type</th>\n",
       "      <th>Fuel Consumption(L/100km)</th>\n",
       "      <th>CO2 Emissions(g/km)</th>\n",
       "    </tr>\n",
       "  </thead>\n",
       "  <tbody>\n",
       "    <tr>\n",
       "      <th>133</th>\n",
       "      <td>Bugatti</td>\n",
       "      <td>Chiron Pur Sport</td>\n",
       "      <td>Two-seater</td>\n",
       "      <td>8.0</td>\n",
       "      <td>16</td>\n",
       "      <td>Premium Gas</td>\n",
       "      <td>26.1</td>\n",
       "      <td>608</td>\n",
       "    </tr>\n",
       "    <tr>\n",
       "      <th>134</th>\n",
       "      <td>Bugatti</td>\n",
       "      <td>Chiron Super Sport</td>\n",
       "      <td>Two-seater</td>\n",
       "      <td>8.0</td>\n",
       "      <td>16</td>\n",
       "      <td>Premium Gas</td>\n",
       "      <td>26.1</td>\n",
       "      <td>608</td>\n",
       "    </tr>\n",
       "  </tbody>\n",
       "</table>\n",
       "</div>"
      ],
      "text/plain": [
       "        Make               Model       Class  Engine Size(L)  Cylinders  \\\n",
       "133  Bugatti    Chiron Pur Sport  Two-seater             8.0         16   \n",
       "134  Bugatti  Chiron Super Sport  Two-seater             8.0         16   \n",
       "\n",
       "       Fuel Type  Fuel Consumption(L/100km)  CO2 Emissions(g/km)  \n",
       "133  Premium Gas                       26.1                  608  \n",
       "134  Premium Gas                       26.1                  608  "
      ]
     },
     "execution_count": 61,
     "metadata": {},
     "output_type": "execute_result"
    }
   ],
   "source": [
    "cars[cars[\"Fuel Consumption(L/100km)\"] == max_small_family]"
   ]
  },
  {
   "cell_type": "code",
   "execution_count": 62,
   "id": "cde91eca",
   "metadata": {},
   "outputs": [
    {
     "data": {
      "text/html": [
       "<div>\n",
       "<style scoped>\n",
       "    .dataframe tbody tr th:only-of-type {\n",
       "        vertical-align: middle;\n",
       "    }\n",
       "\n",
       "    .dataframe tbody tr th {\n",
       "        vertical-align: top;\n",
       "    }\n",
       "\n",
       "    .dataframe thead th {\n",
       "        text-align: right;\n",
       "    }\n",
       "</style>\n",
       "<table border=\"1\" class=\"dataframe\">\n",
       "  <thead>\n",
       "    <tr style=\"text-align: right;\">\n",
       "      <th></th>\n",
       "      <th>Make</th>\n",
       "      <th>Model</th>\n",
       "      <th>Class</th>\n",
       "      <th>Engine Size(L)</th>\n",
       "      <th>Cylinders</th>\n",
       "      <th>Fuel Type</th>\n",
       "      <th>Fuel Consumption(L/100km)</th>\n",
       "      <th>CO2 Emissions(g/km)</th>\n",
       "    </tr>\n",
       "  </thead>\n",
       "  <tbody>\n",
       "    <tr>\n",
       "      <th>460</th>\n",
       "      <td>Hyundai</td>\n",
       "      <td>IONIQ Blue</td>\n",
       "      <td>Full-size</td>\n",
       "      <td>1.6</td>\n",
       "      <td>4</td>\n",
       "      <td>Regular Gas</td>\n",
       "      <td>4.0</td>\n",
       "      <td>94</td>\n",
       "    </tr>\n",
       "  </tbody>\n",
       "</table>\n",
       "</div>"
      ],
      "text/plain": [
       "        Make       Model      Class  Engine Size(L)  Cylinders    Fuel Type  \\\n",
       "460  Hyundai  IONIQ Blue  Full-size             1.6          4  Regular Gas   \n",
       "\n",
       "     Fuel Consumption(L/100km)  CO2 Emissions(g/km)  \n",
       "460                        4.0                   94  "
      ]
     },
     "execution_count": 62,
     "metadata": {},
     "output_type": "execute_result"
    }
   ],
   "source": [
    "big_family[big_family[\"Fuel Consumption(L/100km)\"] == min_big_family]"
   ]
  },
  {
   "cell_type": "code",
   "execution_count": 63,
   "id": "ba78b479",
   "metadata": {},
   "outputs": [
    {
     "data": {
      "text/html": [
       "<div>\n",
       "<style scoped>\n",
       "    .dataframe tbody tr th:only-of-type {\n",
       "        vertical-align: middle;\n",
       "    }\n",
       "\n",
       "    .dataframe tbody tr th {\n",
       "        vertical-align: top;\n",
       "    }\n",
       "\n",
       "    .dataframe thead th {\n",
       "        text-align: right;\n",
       "    }\n",
       "</style>\n",
       "<table border=\"1\" class=\"dataframe\">\n",
       "  <thead>\n",
       "    <tr style=\"text-align: right;\">\n",
       "      <th></th>\n",
       "      <th>Make</th>\n",
       "      <th>Model</th>\n",
       "      <th>Class</th>\n",
       "      <th>Engine Size(L)</th>\n",
       "      <th>Cylinders</th>\n",
       "      <th>Fuel Type</th>\n",
       "      <th>Fuel Consumption(L/100km)</th>\n",
       "      <th>CO2 Emissions(g/km)</th>\n",
       "    </tr>\n",
       "  </thead>\n",
       "  <tbody>\n",
       "    <tr>\n",
       "      <th>563</th>\n",
       "      <td>Lamborghini</td>\n",
       "      <td>Urus</td>\n",
       "      <td>SUV: Standard</td>\n",
       "      <td>4.0</td>\n",
       "      <td>8</td>\n",
       "      <td>Premium Gas</td>\n",
       "      <td>16.9</td>\n",
       "      <td>384</td>\n",
       "    </tr>\n",
       "  </tbody>\n",
       "</table>\n",
       "</div>"
      ],
      "text/plain": [
       "            Make Model          Class  Engine Size(L)  Cylinders    Fuel Type  \\\n",
       "563  Lamborghini  Urus  SUV: Standard             4.0          8  Premium Gas   \n",
       "\n",
       "     Fuel Consumption(L/100km)  CO2 Emissions(g/km)  \n",
       "563                       16.9                  384  "
      ]
     },
     "execution_count": 63,
     "metadata": {},
     "output_type": "execute_result"
    }
   ],
   "source": [
    "cars[cars[\"Fuel Consumption(L/100km)\"] == max_big_family]"
   ]
  },
  {
   "cell_type": "markdown",
   "id": "f1760e14",
   "metadata": {},
   "source": [
    "### Discussion\n",
    "In this assignment, I took a look at 2022 automobile models, to find which models and makes have the best fuel efficiency. I separated the data into three sets; trucks, small family cars, and big family cars. The analysis proved that the best manufacturer for trucks is Ford, for small family cars it is Toyota, and for the big family cars, it is Hyundai. Along with the most efficient models in each of these sets being the ***Ford Maverick Hybrid*** for trucks, ***Hyundai Elantra Hybrid*** for small family cars, and finally the ***Hyundai IONIQ*** for big family cars. Overall Hyundai seems to make the most fuel-efficient automobiles currently as they are in each of the graphs and two of their models have the best fuel economy in their class.\n",
    "\n",
    "### References\n",
    "1. Source [data](https://www.kaggle.com/datasets/rinichristy/2022-fuel-consumption-ratings)\n",
    "2. [Pandas](https://pandas.pydata.org/) library to manipulate data\n",
    "3. [Seaborn](https://seaborn.pydata.org/) library to create the graphs to visualize data"
   ]
  }
 ],
 "metadata": {
  "kernelspec": {
   "display_name": "Python 3 (ipykernel)",
   "language": "python",
   "name": "python3"
  },
  "language_info": {
   "codemirror_mode": {
    "name": "ipython",
    "version": 3
   },
   "file_extension": ".py",
   "mimetype": "text/x-python",
   "name": "python",
   "nbconvert_exporter": "python",
   "pygments_lexer": "ipython3",
   "version": "3.9.13"
  }
 },
 "nbformat": 4,
 "nbformat_minor": 5
}
